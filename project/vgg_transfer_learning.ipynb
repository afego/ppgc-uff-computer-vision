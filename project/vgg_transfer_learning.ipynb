{
  "cells": [
    {
      "cell_type": "code",
      "execution_count": 64,
      "metadata": {
        "id": "kymKPWIS9QHA"
      },
      "outputs": [],
      "source": [
        "from keras import Input\n",
        "from keras.layers import Dense, Flatten, GlobalAveragePooling2D\n",
        "from keras.models import Model\n",
        "from keras.applications.vgg16 import VGG16\n",
        "from keras.applications.vgg16 import preprocess_input\n",
        "from keras.preprocessing.image import ImageDataGenerator\n",
        "import numpy as np\n",
        "from glob import glob\n",
        "import matplotlib.pyplot as plt\n",
        "import os\n",
        "import warnings\n",
        "warnings.filterwarnings(\"ignore\", category=FutureWarning)"
      ]
    },
    {
      "cell_type": "code",
      "execution_count": 65,
      "metadata": {
        "id": "ztvnQbfNL13G"
      },
      "outputs": [],
      "source": [
        "IMAGE_SIZE = [224, 224]"
      ]
    },
    {
      "cell_type": "code",
      "execution_count": 66,
      "metadata": {
        "id": "79xfCi1VL4WE"
      },
      "outputs": [],
      "source": [
        "images_path = '../../../../../mnt/e/datasets/cor'\n",
        "train_path = images_path+'/train'\n",
        "test_path = images_path+'/test'"
      ]
    },
    {
      "cell_type": "code",
      "execution_count": 67,
      "metadata": {},
      "outputs": [],
      "source": [
        "def get_filenames_from_folder(folder:str):\n",
        "    '''\n",
        "    Returns all filenames in a directory tree\n",
        "    '''\n",
        "    file_list = []\n",
        "    for root, dirs, files in os.walk(folder):\n",
        "        for file in files:\n",
        "            file_list.append(os.path.join(root,file).replace('\\\\','/'))\n",
        "    return file_list"
      ]
    },
    {
      "cell_type": "code",
      "execution_count": 68,
      "metadata": {
        "colab": {
          "base_uri": "https://localhost:8080/",
          "height": 1000
        },
        "id": "nXzCeUIa4APa",
        "outputId": "8c747f55-511c-4ae9-f993-2b824dda2c37"
      },
      "outputs": [
        {
          "name": "stdout",
          "output_type": "stream",
          "text": [
            "17751 images of normal situation\n",
            "47155 images of rain\n"
          ]
        }
      ],
      "source": [
        "folder = train_path+'/normal'\n",
        "\n",
        "normal_files = get_filenames_from_folder(folder)\n",
        "rain_files = get_filenames_from_folder(train_path+'/rain')\n",
        "print(f\"{len(normal_files)} images of normal situation\")\n",
        "print(f\"{len(rain_files)} images of rain\")\n"
      ]
    },
    {
      "cell_type": "code",
      "execution_count": 69,
      "metadata": {
        "colab": {
          "base_uri": "https://localhost:8080/"
        },
        "id": "jR_L6S1_lr4L",
        "outputId": "6cc4c387-2cfb-4f8b-8f57-6315d1230c51"
      },
      "outputs": [
        {
          "name": "stdout",
          "output_type": "stream",
          "text": [
            "2\n"
          ]
        }
      ],
      "source": [
        "folders = glob(train_path+'/*')\n",
        "print(len(folders))"
      ]
    },
    {
      "cell_type": "code",
      "execution_count": 70,
      "metadata": {},
      "outputs": [],
      "source": [
        "def vgg16_predictions(image_size, activation_func='softmax'):\n",
        "  vgg = VGG16(input_shape=image_size, weights='imagenet')\n",
        "  for layer in vgg.layers:\n",
        "    layer.trainable = False\n",
        "  new_predictions = Dense(len(folders), activation=activation_func)(vgg.layers[21].output)\n",
        "  model = Model(inputs=vgg.input, outputs=new_predictions)\n",
        "  # model.layers[22]._name = 'new_predictions'\n",
        "  for layer in model.layers:\n",
        "      layer.trainable = False\n",
        "  model.layers[-1].trainable = True\n",
        "  return model\n",
        "\n"
      ]
    },
    {
      "cell_type": "code",
      "execution_count": 71,
      "metadata": {},
      "outputs": [],
      "source": [
        "def vgg16_dense(image_size, activation_func='softmax'):\n",
        "    vgg = VGG16(input_shape=image_size, weights='imagenet', include_top=False)\n",
        "    for layer in vgg.layers:\n",
        "        layer.trainable = False\n",
        "    x = Flatten()(vgg.output)\n",
        "    prediction = Dense(len(folders), activation=activation_func)(x)\n",
        "    model = Model(inputs=vgg.input, outputs=prediction)\n",
        "    return model"
      ]
    },
    {
      "cell_type": "code",
      "execution_count": 72,
      "metadata": {},
      "outputs": [],
      "source": [
        "def choose_vgg16(type:str = 'dense', activation_func:str='softmax'):\n",
        "    if type == 'dense':\n",
        "        return vgg16_dense(IMAGE_SIZE + [3], activation_func)\n",
        "    elif type == 'predictions':\n",
        "        return vgg16_predictions((IMAGE_SIZE[0], IMAGE_SIZE[1],3), activation_func)"
      ]
    },
    {
      "cell_type": "code",
      "execution_count": 73,
      "metadata": {},
      "outputs": [
        {
          "name": "stdout",
          "output_type": "stream",
          "text": [
            "Model: \"model_3\"\n",
            "_________________________________________________________________\n",
            " Layer (type)                Output Shape              Param #   \n",
            "=================================================================\n",
            " input_4 (InputLayer)        [(None, 224, 224, 3)]     0         \n",
            "                                                                 \n",
            " block1_conv1 (Conv2D)       (None, 224, 224, 64)      1792      \n",
            "                                                                 \n",
            " block1_conv2 (Conv2D)       (None, 224, 224, 64)      36928     \n",
            "                                                                 \n",
            " block1_pool (MaxPooling2D)  (None, 112, 112, 64)      0         \n",
            "                                                                 \n",
            " block2_conv1 (Conv2D)       (None, 112, 112, 128)     73856     \n",
            "                                                                 \n",
            " block2_conv2 (Conv2D)       (None, 112, 112, 128)     147584    \n",
            "                                                                 \n",
            " block2_pool (MaxPooling2D)  (None, 56, 56, 128)       0         \n",
            "                                                                 \n",
            " block3_conv1 (Conv2D)       (None, 56, 56, 256)       295168    \n",
            "                                                                 \n",
            " block3_conv2 (Conv2D)       (None, 56, 56, 256)       590080    \n",
            "                                                                 \n",
            " block3_conv3 (Conv2D)       (None, 56, 56, 256)       590080    \n",
            "                                                                 \n",
            " block3_pool (MaxPooling2D)  (None, 28, 28, 256)       0         \n",
            "                                                                 \n",
            " block4_conv1 (Conv2D)       (None, 28, 28, 512)       1180160   \n",
            "                                                                 \n",
            " block4_conv2 (Conv2D)       (None, 28, 28, 512)       2359808   \n",
            "                                                                 \n",
            " block4_conv3 (Conv2D)       (None, 28, 28, 512)       2359808   \n",
            "                                                                 \n",
            " block4_pool (MaxPooling2D)  (None, 14, 14, 512)       0         \n",
            "                                                                 \n",
            " block5_conv1 (Conv2D)       (None, 14, 14, 512)       2359808   \n",
            "                                                                 \n",
            " block5_conv2 (Conv2D)       (None, 14, 14, 512)       2359808   \n",
            "                                                                 \n",
            " block5_conv3 (Conv2D)       (None, 14, 14, 512)       2359808   \n",
            "                                                                 \n",
            " block5_pool (MaxPooling2D)  (None, 7, 7, 512)         0         \n",
            "                                                                 \n",
            " flatten_2 (Flatten)         (None, 25088)             0         \n",
            "                                                                 \n",
            " dense_3 (Dense)             (None, 2)                 50178     \n",
            "                                                                 \n",
            "=================================================================\n",
            "Total params: 14,764,866\n",
            "Trainable params: 50,178\n",
            "Non-trainable params: 14,714,688\n",
            "_________________________________________________________________\n"
          ]
        }
      ],
      "source": [
        "choice = 'dense'\n",
        "activation_func = 'softmax'\n",
        "model = choose_vgg16(choice, activation_func)\n",
        "model.summary()"
      ]
    },
    {
      "cell_type": "code",
      "execution_count": 74,
      "metadata": {},
      "outputs": [],
      "source": [
        "model.layers[-1].trainable = True\n",
        "model.layers[-2].trainable = True"
      ]
    },
    {
      "cell_type": "code",
      "execution_count": 75,
      "metadata": {
        "id": "l0YRD6xfnnrk"
      },
      "outputs": [],
      "source": [
        "train_datagen = ImageDataGenerator(\n",
        "    preprocessing_function=preprocess_input,\n",
        "    rotation_range=40,\n",
        "    width_shift_range=0.2,\n",
        "    height_shift_range=0.2,\n",
        "    shear_range=0.2,\n",
        "    zoom_range=0.2,\n",
        "    horizontal_flip=True,\n",
        "    fill_mode='nearest')"
      ]
    },
    {
      "cell_type": "code",
      "execution_count": 76,
      "metadata": {
        "id": "BPfA9FCGoHBF"
      },
      "outputs": [],
      "source": [
        "test_datagen = ImageDataGenerator(preprocessing_function=preprocess_input)\n",
        "# test_datagen = ImageDataGenerator()"
      ]
    },
    {
      "cell_type": "code",
      "execution_count": 77,
      "metadata": {
        "colab": {
          "base_uri": "https://localhost:8080/"
        },
        "id": "v-c2pnSGoJlL",
        "outputId": "06b8f453-49e3-45df-e07c-df7e1f8ecb89"
      },
      "outputs": [
        {
          "name": "stdout",
          "output_type": "stream",
          "text": [
            "Found 64906 images belonging to 2 classes.\n"
          ]
        }
      ],
      "source": [
        "batch_size = 32\n",
        "\n",
        "train_set = train_datagen.flow_from_directory(train_path,\n",
        "                                                 target_size = (224, 224),\n",
        "                                                 batch_size = batch_size,\n",
        "                                                 class_mode = 'categorical')"
      ]
    },
    {
      "cell_type": "code",
      "execution_count": 78,
      "metadata": {
        "colab": {
          "base_uri": "https://localhost:8080/"
        },
        "id": "nNPc_W70oLzY",
        "outputId": "098d33de-ce4b-4349-eb5a-4906765b56b9"
      },
      "outputs": [
        {
          "name": "stdout",
          "output_type": "stream",
          "text": [
            "Found 7492 images belonging to 2 classes.\n"
          ]
        }
      ],
      "source": [
        "test_set = test_datagen.flow_from_directory(test_path,\n",
        "                                            target_size = (224, 224),\n",
        "                                            batch_size = batch_size,\n",
        "                                            class_mode = 'categorical')"
      ]
    },
    {
      "cell_type": "code",
      "execution_count": 79,
      "metadata": {},
      "outputs": [],
      "source": [
        "import datetime\n",
        "from pytz import timezone\n",
        "def current_time():\n",
        "    return datetime.now(timezone(\"Brazil/East\")).strftime(\"%Y-%m-%d_%H-%M-%S\")"
      ]
    },
    {
      "cell_type": "code",
      "execution_count": 80,
      "metadata": {
        "id": "L6x9IHTBM1CA"
      },
      "outputs": [],
      "source": [
        "from keras import optimizers\n",
        "from keras import metrics\n",
        "\n",
        "metric = metrics.MeanIoU(len(folders)) # Intersection-over-union a.k.a. Jaccard Index\n",
        "classification_losses = [\n",
        "    'binary_crossentropy',\n",
        "    'hinge',\n",
        "    'squared_hinge'\n",
        "                         ]\n",
        "loss = classification_losses[0]\n",
        "\n",
        "adam = optimizers.Adam()\n",
        "model.compile(loss=loss,\n",
        "              optimizer=adam,\n",
        "              metrics=metric)"
      ]
    },
    {
      "cell_type": "code",
      "execution_count": 81,
      "metadata": {},
      "outputs": [],
      "source": [
        "EPOCH_LR_PATIENCE = 10\n",
        "def scheduler(epoch:int, learning_rate):\n",
        "    if epoch > 10 and epoch % EPOCH_LR_PATIENCE == 0:\n",
        "        return learning_rate/10\n",
        "    return learning_rate"
      ]
    },
    {
      "cell_type": "code",
      "execution_count": 82,
      "metadata": {
        "colab": {
          "base_uri": "https://localhost:8080/"
        },
        "id": "3jPaek3VoRUz",
        "outputId": "736aac45-ce77-4ebf-c3dd-ef8e877019a2"
      },
      "outputs": [
        {
          "name": "stdout",
          "output_type": "stream",
          "text": [
            "WARNING:tensorflow:`period` argument is deprecated. Please use `save_freq` to specify the frequency in number of batches seen.\n"
          ]
        },
        {
          "name": "stderr",
          "output_type": "stream",
          "text": [
            "/tmp/ipykernel_706/1025580221.py:39: UserWarning: `Model.fit_generator` is deprecated and will be removed in a future version. Please use `Model.fit`, which supports generators.\n",
            "  model_history=model.fit_generator(\n"
          ]
        },
        {
          "name": "stdout",
          "output_type": "stream",
          "text": [
            "Epoch 1/100\n"
          ]
        },
        {
          "name": "stderr",
          "output_type": "stream",
          "text": [
            "2023-07-23 15:45:39.721142: I tensorflow/core/common_runtime/executor.cc:1197] [/device:CPU:0] (DEBUG INFO) Executor start aborting (this does not indicate an error and you can ignore this message): INVALID_ARGUMENT: You must feed a value for placeholder tensor 'Placeholder/_0' with dtype int32\n",
            "\t [[{{node Placeholder/_0}}]]\n",
            "2023-07-23 15:46:24.383244: I tensorflow/core/common_runtime/executor.cc:1197] [/device:CPU:0] (DEBUG INFO) Executor start aborting (this does not indicate an error and you can ignore this message): INVALID_ARGUMENT: You must feed a value for placeholder tensor 'Placeholder/_0' with dtype int32\n",
            "\t [[{{node Placeholder/_0}}]]\n"
          ]
        },
        {
          "name": "stdout",
          "output_type": "stream",
          "text": [
            "63/63 - 103s - loss: 1.4261 - mean_io_u_3: 0.7961 - val_loss: 0.4097 - val_mean_io_u_3: 0.8689 - lr: 0.0010 - 103s/epoch - 2s/step\n",
            "Epoch 2/100\n",
            "63/63 - 100s - loss: 0.9231 - mean_io_u_3: 0.8779 - val_loss: 1.4867 - val_mean_io_u_3: 0.7521 - lr: 0.0010 - 100s/epoch - 2s/step\n",
            "Epoch 3/100\n",
            "63/63 - 103s - loss: 0.7270 - mean_io_u_3: 0.9162 - val_loss: 2.1636 - val_mean_io_u_3: 0.8301 - lr: 0.0010 - 103s/epoch - 2s/step\n",
            "Epoch 4/100\n",
            "63/63 - 103s - loss: 0.6838 - mean_io_u_3: 0.9158 - val_loss: 1.9718 - val_mean_io_u_3: 0.7906 - lr: 0.0010 - 103s/epoch - 2s/step\n",
            "Epoch 5/100\n",
            "\n",
            "Epoch 5: saving model to models/2023-07-23_15-45-38_vgg_dense_softmax_lossbinary_crossentropy_batch32_steps63/2023-07-23_15-45-38_vgg_dense_softmax_lossbinary_crossentropy_batch32_steps63_05.h5\n",
            "63/63 - 100s - loss: 0.7043 - mean_io_u_3: 0.9284 - val_loss: 1.5348 - val_mean_io_u_3: 0.8652 - lr: 0.0010 - 100s/epoch - 2s/step\n",
            "Epoch 6/100\n",
            "63/63 - 98s - loss: 0.5278 - mean_io_u_3: 0.9389 - val_loss: 1.6475 - val_mean_io_u_3: 0.8438 - lr: 0.0010 - 98s/epoch - 2s/step\n",
            "Epoch 7/100\n",
            "63/63 - 101s - loss: 0.3474 - mean_io_u_3: 0.9603 - val_loss: 1.7102 - val_mean_io_u_3: 0.8331 - lr: 0.0010 - 101s/epoch - 2s/step\n",
            "Epoch 8/100\n",
            "63/63 - 100s - loss: 0.4482 - mean_io_u_3: 0.9421 - val_loss: 0.8994 - val_mean_io_u_3: 0.8684 - lr: 0.0010 - 100s/epoch - 2s/step\n",
            "Epoch 9/100\n",
            "63/63 - 103s - loss: 0.4059 - mean_io_u_3: 0.9565 - val_loss: 1.8171 - val_mean_io_u_3: 0.8141 - lr: 0.0010 - 103s/epoch - 2s/step\n",
            "Epoch 10/100\n",
            "\n",
            "Epoch 10: saving model to models/2023-07-23_15-45-38_vgg_dense_softmax_lossbinary_crossentropy_batch32_steps63/2023-07-23_15-45-38_vgg_dense_softmax_lossbinary_crossentropy_batch32_steps63_10.h5\n",
            "63/63 - 100s - loss: 0.4873 - mean_io_u_3: 0.9505 - val_loss: 0.8032 - val_mean_io_u_3: 0.9155 - lr: 0.0010 - 100s/epoch - 2s/step\n",
            "Epoch 11/100\n",
            "63/63 - 101s - loss: 0.4633 - mean_io_u_3: 0.9547 - val_loss: 1.2700 - val_mean_io_u_3: 0.8680 - lr: 0.0010 - 101s/epoch - 2s/step\n",
            "Epoch 12/100\n",
            "63/63 - 97s - loss: 0.4679 - mean_io_u_3: 0.9575 - val_loss: 1.1251 - val_mean_io_u_3: 0.9032 - lr: 0.0010 - 97s/epoch - 2s/step\n",
            "Epoch 13/100\n",
            "63/63 - 96s - loss: 0.5265 - mean_io_u_3: 0.9495 - val_loss: 1.2296 - val_mean_io_u_3: 0.9168 - lr: 0.0010 - 96s/epoch - 2s/step\n",
            "Epoch 14/100\n",
            "63/63 - 97s - loss: 0.4861 - mean_io_u_3: 0.9528 - val_loss: 2.4018 - val_mean_io_u_3: 0.8532 - lr: 0.0010 - 97s/epoch - 2s/step\n",
            "Epoch 15/100\n",
            "\n",
            "Epoch 15: saving model to models/2023-07-23_15-45-38_vgg_dense_softmax_lossbinary_crossentropy_batch32_steps63/2023-07-23_15-45-38_vgg_dense_softmax_lossbinary_crossentropy_batch32_steps63_15.h5\n",
            "63/63 - 98s - loss: 0.3756 - mean_io_u_3: 0.9740 - val_loss: 1.4021 - val_mean_io_u_3: 0.9162 - lr: 0.0010 - 98s/epoch - 2s/step\n",
            "Epoch 16/100\n",
            "63/63 - 96s - loss: 0.5451 - mean_io_u_3: 0.9599 - val_loss: 2.3819 - val_mean_io_u_3: 0.8761 - lr: 0.0010 - 96s/epoch - 2s/step\n",
            "Epoch 17/100\n",
            "63/63 - 97s - loss: 0.4800 - mean_io_u_3: 0.9612 - val_loss: 1.7872 - val_mean_io_u_3: 0.9037 - lr: 0.0010 - 97s/epoch - 2s/step\n",
            "Epoch 18/100\n",
            "63/63 - 99s - loss: 0.4844 - mean_io_u_3: 0.9617 - val_loss: 5.0322 - val_mean_io_u_3: 0.7282 - lr: 0.0010 - 99s/epoch - 2s/step\n",
            "Epoch 19/100\n",
            "63/63 - 97s - loss: 0.5555 - mean_io_u_3: 0.9607 - val_loss: 0.8582 - val_mean_io_u_3: 0.9433 - lr: 0.0010 - 97s/epoch - 2s/step\n",
            "Epoch 20/100\n",
            "\n",
            "Epoch 20: saving model to models/2023-07-23_15-45-38_vgg_dense_softmax_lossbinary_crossentropy_batch32_steps63/2023-07-23_15-45-38_vgg_dense_softmax_lossbinary_crossentropy_batch32_steps63_20.h5\n",
            "63/63 - 98s - loss: 0.4733 - mean_io_u_3: 0.9673 - val_loss: 1.2517 - val_mean_io_u_3: 0.9188 - lr: 0.0010 - 98s/epoch - 2s/step\n",
            "Epoch 21/100\n",
            "63/63 - 97s - loss: 0.3257 - mean_io_u_3: 0.9759 - val_loss: 1.2536 - val_mean_io_u_3: 0.9214 - lr: 1.0000e-04 - 97s/epoch - 2s/step\n",
            "Epoch 22/100\n",
            "63/63 - 99s - loss: 0.2391 - mean_io_u_3: 0.9754 - val_loss: 0.9661 - val_mean_io_u_3: 0.9342 - lr: 1.0000e-04 - 99s/epoch - 2s/step\n",
            "Epoch 23/100\n",
            "63/63 - 99s - loss: 0.2990 - mean_io_u_3: 0.9807 - val_loss: 0.8627 - val_mean_io_u_3: 0.9403 - lr: 1.0000e-04 - 99s/epoch - 2s/step\n",
            "Epoch 24/100\n",
            "63/63 - 100s - loss: 0.3075 - mean_io_u_3: 0.9759 - val_loss: 1.1563 - val_mean_io_u_3: 0.9230 - lr: 1.0000e-04 - 100s/epoch - 2s/step\n",
            "Epoch 25/100\n",
            "\n",
            "Epoch 25: saving model to models/2023-07-23_15-45-38_vgg_dense_softmax_lossbinary_crossentropy_batch32_steps63/2023-07-23_15-45-38_vgg_dense_softmax_lossbinary_crossentropy_batch32_steps63_25.h5\n",
            "63/63 - 98s - loss: 0.2652 - mean_io_u_3: 0.9783 - val_loss: 0.7889 - val_mean_io_u_3: 0.9450 - lr: 1.0000e-04 - 98s/epoch - 2s/step\n",
            "Epoch 26/100\n",
            "63/63 - 96s - loss: 0.1867 - mean_io_u_3: 0.9835 - val_loss: 0.7904 - val_mean_io_u_3: 0.9434 - lr: 1.0000e-04 - 96s/epoch - 2s/step\n",
            "Epoch 27/100\n",
            "63/63 - 97s - loss: 0.3310 - mean_io_u_3: 0.9773 - val_loss: 1.0012 - val_mean_io_u_3: 0.9317 - lr: 1.0000e-04 - 97s/epoch - 2s/step\n",
            "Epoch 28/100\n",
            "63/63 - 99s - loss: 0.1379 - mean_io_u_3: 0.9850 - val_loss: 0.8689 - val_mean_io_u_3: 0.9389 - lr: 1.0000e-04 - 99s/epoch - 2s/step\n",
            "Epoch 29/100\n",
            "63/63 - 100s - loss: 0.2237 - mean_io_u_3: 0.9787 - val_loss: 0.8783 - val_mean_io_u_3: 0.9403 - lr: 1.0000e-04 - 100s/epoch - 2s/step\n",
            "Epoch 30/100\n",
            "\n",
            "Epoch 30: saving model to models/2023-07-23_15-45-38_vgg_dense_softmax_lossbinary_crossentropy_batch32_steps63/2023-07-23_15-45-38_vgg_dense_softmax_lossbinary_crossentropy_batch32_steps63_30.h5\n",
            "63/63 - 101s - loss: 0.3069 - mean_io_u_3: 0.9764 - val_loss: 0.7736 - val_mean_io_u_3: 0.9397 - lr: 1.0000e-04 - 101s/epoch - 2s/step\n",
            "Epoch 31/100\n",
            "Restoring model weights from the end of the best epoch: 1.\n",
            "63/63 - 102s - loss: 0.1703 - mean_io_u_3: 0.9816 - val_loss: 0.7830 - val_mean_io_u_3: 0.9395 - lr: 1.0000e-05 - 102s/epoch - 2s/step\n",
            "Epoch 31: early stopping\n",
            "Training completed in time:  0:51:16.213036\n"
          ]
        }
      ],
      "source": [
        "from datetime import datetime\n",
        "from keras.callbacks import ModelCheckpoint\n",
        "from keras.callbacks import EarlyStopping\n",
        "from keras.callbacks import LearningRateScheduler\n",
        "\n",
        "monitor = \"val_loss\"\n",
        "patience = 30\n",
        "verbose = 2\n",
        "# steps_epoch = test_set.__len__()\n",
        "steps_epoch = train_set.__len__()/batch_size\n",
        "\n",
        "\n",
        "model_name = f'{current_time()}_vgg_{choice}_{activation_func}_loss{loss}_batch{batch_size}_steps{int(steps_epoch)}'\n",
        "model_folder = f'models/{model_name}'\n",
        "\n",
        "if not os.path.exists(model_folder):\n",
        "  os.makedirs(model_folder)\n",
        "            \n",
        "file_path = f'{model_folder}/{model_name}'\n",
        "\n",
        "checkpoint = ModelCheckpoint(filepath=file_path+\"_{epoch:02d}.h5\", \n",
        "                             monitor=monitor, \n",
        "                             verbose=verbose, \n",
        "                             save_best_only=False, \n",
        "                             save_freq='epoch',\n",
        "                             period=5)\n",
        "es = EarlyStopping(monitor=monitor,\n",
        "                         patience=patience,\n",
        "                         verbose=verbose,\n",
        "                         mode='min',\n",
        "                         restore_best_weights=True)\n",
        "lrs = LearningRateScheduler(scheduler)\n",
        "callbacks = [es, \n",
        "             lrs, \n",
        "             checkpoint]\n",
        "\n",
        "start = datetime.now()\n",
        "\n",
        "model_history=model.fit_generator(\n",
        "  train_set,\n",
        "  validation_data=test_set,\n",
        "  epochs=100,\n",
        "  steps_per_epoch=steps_epoch,\n",
        "  # validation_steps=32,\n",
        "  callbacks=callbacks,\n",
        "  verbose=2)\n",
        "\n",
        "duration = datetime.now() - start\n",
        "print(\"Training completed in time: \", duration)"
      ]
    },
    {
      "cell_type": "code",
      "execution_count": 84,
      "metadata": {
        "colab": {
          "base_uri": "https://localhost:8080/",
          "height": 295
        },
        "id": "-xWwh8bVoYn9",
        "outputId": "311b4e3f-880d-4dfc-8ddf-300d1716d5f6"
      },
      "outputs": [
        {
          "data": {
            "image/png": "[encoded data removed]",
            "text/plain": [
              "<Figure size 1500x500 with 1 Axes>"
            ]
          },
          "metadata": {},
          "output_type": "display_data"
        }
      ],
      "source": [
        "# Plot training & validation metric values\n",
        "plt.figure(figsize=(15,5))\n",
        "plt.plot(model_history.history[metric.name])\n",
        "plt.plot(model_history.history['val_'+metric.name])\n",
        "plt.title('CNN Model Metric Values')\n",
        "plt.ylabel(metric.name)\n",
        "plt.xlabel('Epoch')\n",
        "plt.legend(['Train', 'Test'], loc='upper left')\n",
        "\n",
        "plot_folder = f'models/{model_name}/plot'\n",
        "if not os.path.exists(plot_folder):\n",
        "    os.makedirs(plot_folder)\n",
        "\n",
        "plt.savefig(f'{plot_folder}/{metric.name}.png')\n",
        "plt.show()"
      ]
    },
    {
      "cell_type": "code",
      "execution_count": null,
      "metadata": {},
      "outputs": [],
      "source": []
    }
  ],
  "metadata": {
    "colab": {
      "name": "TransferLearning.ipynb",
      "provenance": []
    },
    "kernelspec": {
      "display_name": "Python 3",
      "name": "python3"
    },
    "language_info": {
      "codemirror_mode": {
        "name": "ipython",
        "version": 3
      },
      "file_extension": ".py",
      "mimetype": "text/x-python",
      "name": "python",
      "nbconvert_exporter": "python",
      "pygments_lexer": "ipython3",
      "version": "3.11.4"
    }
  },
  "nbformat": 4,
  "nbformat_minor": 0
}
