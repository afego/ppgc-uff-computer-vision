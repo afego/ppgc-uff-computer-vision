{
  "cells": [
    {
      "cell_type": "code",
      "execution_count": 1,
      "metadata": {},
      "outputs": [
        {
          "name": "stdout",
          "output_type": "stream",
          "text": [
            "c:\\Users\\andre\\Documents\\GitHub\\OCTA\n"
          ]
        }
      ],
      "source": [
        "cd ../"
      ]
    },
    {
      "cell_type": "code",
      "execution_count": 2,
      "metadata": {
        "id": "kymKPWIS9QHA"
      },
      "outputs": [],
      "source": [
        "from keras.layers import Dense, Flatten\n",
        "from keras.models import Model\n",
        "from keras.applications.vgg16 import VGG16\n",
        "from keras.applications.vgg16 import preprocess_input\n",
        "from keras.preprocessing.image import ImageDataGenerator\n",
        "import numpy as np\n",
        "from glob import glob\n",
        "import matplotlib.pyplot as plt\n",
        "\n",
        "import warnings\n",
        "warnings.filterwarnings(\"ignore\", category=FutureWarning)"
      ]
    },
    {
      "cell_type": "code",
      "execution_count": 3,
      "metadata": {
        "id": "ztvnQbfNL13G"
      },
      "outputs": [],
      "source": [
        "IMAGE_SIZE = [224, 224]"
      ]
    },
    {
      "cell_type": "code",
      "execution_count": 4,
      "metadata": {
        "id": "79xfCi1VL4WE"
      },
      "outputs": [],
      "source": [
        "images_path = 'images'\n",
        "train_path = images_path+'/train'\n",
        "test_path = images_path+'/test'"
      ]
    },
    {
      "cell_type": "code",
      "execution_count": 5,
      "metadata": {
        "colab": {
          "base_uri": "https://localhost:8080/",
          "height": 1000
        },
        "id": "nXzCeUIa4APa",
        "outputId": "8c747f55-511c-4ae9-f993-2b824dda2c37"
      },
      "outputs": [
        {
          "name": "stdout",
          "output_type": "stream",
          "text": [
            "17751 images of normal situation\n",
            "47155 images of rain\n"
          ]
        }
      ],
      "source": [
        "from bin.util import get_filenames_from_folder\n",
        "\n",
        "folder = train_path+'/normal'\n",
        "\n",
        "normal_files = get_filenames_from_folder(folder)\n",
        "rain_files = get_filenames_from_folder(train_path+'/rain')\n",
        "print(f\"{len(normal_files)} images of normal situation\")\n",
        "print(f\"{len(rain_files)} images of rain\")\n"
      ]
    },
    {
      "cell_type": "code",
      "execution_count": 7,
      "metadata": {
        "colab": {
          "base_uri": "https://localhost:8080/"
        },
        "id": "HDHko5V6MaVr",
        "outputId": "2499581b-9749-49b9-f723-1ed94173b65c"
      },
      "outputs": [
        {
          "ename": "ImportError",
          "evalue": "DLL load failed while importing defs: The specified procedure could not be found.",
          "output_type": "error",
          "traceback": [
            "\u001b[1;31m---------------------------------------------------------------------------\u001b[0m",
            "\u001b[1;31mImportError\u001b[0m                               Traceback (most recent call last)",
            "Cell \u001b[1;32mIn[7], line 1\u001b[0m\n\u001b[1;32m----> 1\u001b[0m \u001b[39mimport\u001b[39;00m \u001b[39mh5py\u001b[39;00m\n\u001b[0;32m      2\u001b[0m vgg \u001b[39m=\u001b[39m VGG16(input_shape\u001b[39m=\u001b[39m(IMAGE_SIZE[\u001b[39m0\u001b[39m],IMAGE_SIZE[\u001b[39m1\u001b[39m],\u001b[39m3\u001b[39m), weights\u001b[39m=\u001b[39m\u001b[39m'\u001b[39m\u001b[39mimagenet\u001b[39m\u001b[39m'\u001b[39m, include_top\u001b[39m=\u001b[39m\u001b[39mTrue\u001b[39;00m)\n",
            "File \u001b[1;32mc:\\Users\\andre\\anaconda3\\envs\\compvision\\lib\\site-packages\\h5py\\__init__.py:33\u001b[0m\n\u001b[0;32m     30\u001b[0m     \u001b[39melse\u001b[39;00m:\n\u001b[0;32m     31\u001b[0m         \u001b[39mraise\u001b[39;00m\n\u001b[1;32m---> 33\u001b[0m \u001b[39mfrom\u001b[39;00m \u001b[39m.\u001b[39;00m \u001b[39mimport\u001b[39;00m version\n\u001b[0;32m     35\u001b[0m \u001b[39mif\u001b[39;00m version\u001b[39m.\u001b[39mhdf5_version_tuple \u001b[39m!=\u001b[39m version\u001b[39m.\u001b[39mhdf5_built_version_tuple:\n\u001b[0;32m     36\u001b[0m     _warn((\u001b[39m\"\u001b[39m\u001b[39mh5py is running against HDF5 \u001b[39m\u001b[39m{0}\u001b[39;00m\u001b[39m when it was built against \u001b[39m\u001b[39m{1}\u001b[39;00m\u001b[39m, \u001b[39m\u001b[39m\"\u001b[39m\n\u001b[0;32m     37\u001b[0m            \u001b[39m\"\u001b[39m\u001b[39mthis may cause problems\u001b[39m\u001b[39m\"\u001b[39m)\u001b[39m.\u001b[39mformat(\n\u001b[0;32m     38\u001b[0m             \u001b[39m'\u001b[39m\u001b[39m{0}\u001b[39;00m\u001b[39m.\u001b[39m\u001b[39m{1}\u001b[39;00m\u001b[39m.\u001b[39m\u001b[39m{2}\u001b[39;00m\u001b[39m'\u001b[39m\u001b[39m.\u001b[39mformat(\u001b[39m*\u001b[39mversion\u001b[39m.\u001b[39mhdf5_version_tuple),\n\u001b[0;32m     39\u001b[0m             \u001b[39m'\u001b[39m\u001b[39m{0}\u001b[39;00m\u001b[39m.\u001b[39m\u001b[39m{1}\u001b[39;00m\u001b[39m.\u001b[39m\u001b[39m{2}\u001b[39;00m\u001b[39m'\u001b[39m\u001b[39m.\u001b[39mformat(\u001b[39m*\u001b[39mversion\u001b[39m.\u001b[39mhdf5_built_version_tuple)\n\u001b[0;32m     40\u001b[0m     ))\n",
            "File \u001b[1;32mc:\\Users\\andre\\anaconda3\\envs\\compvision\\lib\\site-packages\\h5py\\version.py:15\u001b[0m\n\u001b[0;32m     10\u001b[0m \u001b[39m\"\"\"\u001b[39;00m\n\u001b[0;32m     11\u001b[0m \u001b[39m    Versioning module for h5py.\u001b[39;00m\n\u001b[0;32m     12\u001b[0m \u001b[39m\"\"\"\u001b[39;00m\n\u001b[0;32m     14\u001b[0m \u001b[39mfrom\u001b[39;00m \u001b[39mcollections\u001b[39;00m \u001b[39mimport\u001b[39;00m namedtuple\n\u001b[1;32m---> 15\u001b[0m \u001b[39mfrom\u001b[39;00m \u001b[39m.\u001b[39;00m \u001b[39mimport\u001b[39;00m h5 \u001b[39mas\u001b[39;00m _h5\n\u001b[0;32m     16\u001b[0m \u001b[39mimport\u001b[39;00m \u001b[39msys\u001b[39;00m\n\u001b[0;32m     17\u001b[0m \u001b[39mimport\u001b[39;00m \u001b[39mnumpy\u001b[39;00m\n",
            "File \u001b[1;32mh5py\\h5.pyx:1\u001b[0m, in \u001b[0;36minit h5py.h5\u001b[1;34m()\u001b[0m\n",
            "\u001b[1;31mImportError\u001b[0m: DLL load failed while importing defs: The specified procedure could not be found."
          ]
        }
      ],
      "source": [
        "vgg = VGG16(input_shape=(IMAGE_SIZE[0],IMAGE_SIZE[1],3), weights='imagenet', include_top=True)"
      ]
    },
    {
      "cell_type": "code",
      "execution_count": null,
      "metadata": {
        "colab": {
          "base_uri": "https://localhost:8080/"
        },
        "id": "Lt7P2RKid8PU",
        "outputId": "0dcd9239-62e2-4abd-f5bb-3b4277e99a60"
      },
      "outputs": [
        {
          "data": {
            "text/plain": [
              "<KerasTensor: shape=(None, 224, 224, 3) dtype=float32 (created by layer 'input_1')>"
            ]
          },
          "execution_count": 7,
          "metadata": {},
          "output_type": "execute_result"
        }
      ],
      "source": [
        "vgg.input"
      ]
    },
    {
      "cell_type": "code",
      "execution_count": null,
      "metadata": {},
      "outputs": [
        {
          "name": "stdout",
          "output_type": "stream",
          "text": [
            "Model: \"vgg16\"\n",
            "_________________________________________________________________\n",
            " Layer (type)                Output Shape              Param #   \n",
            "=================================================================\n",
            " input_1 (InputLayer)        [(None, 224, 224, 3)]     0         \n",
            "                                                                 \n",
            " block1_conv1 (Conv2D)       (None, 224, 224, 64)      1792      \n",
            "                                                                 \n",
            " block1_conv2 (Conv2D)       (None, 224, 224, 64)      36928     \n",
            "                                                                 \n",
            " block1_pool (MaxPooling2D)  (None, 112, 112, 64)      0         \n",
            "                                                                 \n",
            " block2_conv1 (Conv2D)       (None, 112, 112, 128)     73856     \n",
            "                                                                 \n",
            " block2_conv2 (Conv2D)       (None, 112, 112, 128)     147584    \n",
            "                                                                 \n",
            " block2_pool (MaxPooling2D)  (None, 56, 56, 128)       0         \n",
            "                                                                 \n",
            " block3_conv1 (Conv2D)       (None, 56, 56, 256)       295168    \n",
            "                                                                 \n",
            " block3_conv2 (Conv2D)       (None, 56, 56, 256)       590080    \n",
            "                                                                 \n",
            " block3_conv3 (Conv2D)       (None, 56, 56, 256)       590080    \n",
            "                                                                 \n",
            " block3_pool (MaxPooling2D)  (None, 28, 28, 256)       0         \n",
            "                                                                 \n",
            " block4_conv1 (Conv2D)       (None, 28, 28, 512)       1180160   \n",
            "                                                                 \n",
            " block4_conv2 (Conv2D)       (None, 28, 28, 512)       2359808   \n",
            "                                                                 \n",
            " block4_conv3 (Conv2D)       (None, 28, 28, 512)       2359808   \n",
            "                                                                 \n",
            " block4_pool (MaxPooling2D)  (None, 14, 14, 512)       0         \n",
            "                                                                 \n",
            " block5_conv1 (Conv2D)       (None, 14, 14, 512)       2359808   \n",
            "                                                                 \n",
            " block5_conv2 (Conv2D)       (None, 14, 14, 512)       2359808   \n",
            "                                                                 \n",
            " block5_conv3 (Conv2D)       (None, 14, 14, 512)       2359808   \n",
            "                                                                 \n",
            " block5_pool (MaxPooling2D)  (None, 7, 7, 512)         0         \n",
            "                                                                 \n",
            " flatten (Flatten)           (None, 25088)             0         \n",
            "                                                                 \n",
            " fc1 (Dense)                 (None, 4096)              102764544 \n",
            "                                                                 \n",
            " fc2 (Dense)                 (None, 4096)              16781312  \n",
            "                                                                 \n",
            " predictions (Dense)         (None, 1000)              4097000   \n",
            "                                                                 \n",
            "=================================================================\n",
            "Total params: 138,357,544\n",
            "Trainable params: 138,357,544\n",
            "Non-trainable params: 0\n",
            "_________________________________________________________________\n"
          ]
        }
      ],
      "source": [
        "vgg.summary()"
      ]
    },
    {
      "cell_type": "code",
      "execution_count": null,
      "metadata": {},
      "outputs": [
        {
          "name": "stdout",
          "output_type": "stream",
          "text": [
            "Model: \"vgg16\"\n",
            "_________________________________________________________________\n",
            " Layer (type)                Output Shape              Param #   \n",
            "=================================================================\n",
            " input_2 (InputLayer)        [(None, 224, 224, 3)]     0         \n",
            "                                                                 \n",
            " block1_conv1 (Conv2D)       (None, 224, 224, 64)      1792      \n",
            "                                                                 \n",
            " block1_conv2 (Conv2D)       (None, 224, 224, 64)      36928     \n",
            "                                                                 \n",
            " block1_pool (MaxPooling2D)  (None, 112, 112, 64)      0         \n",
            "                                                                 \n",
            " block2_conv1 (Conv2D)       (None, 112, 112, 128)     73856     \n",
            "                                                                 \n",
            " block2_conv2 (Conv2D)       (None, 112, 112, 128)     147584    \n",
            "                                                                 \n",
            " block2_pool (MaxPooling2D)  (None, 56, 56, 128)       0         \n",
            "                                                                 \n",
            " block3_conv1 (Conv2D)       (None, 56, 56, 256)       295168    \n",
            "                                                                 \n",
            " block3_conv2 (Conv2D)       (None, 56, 56, 256)       590080    \n",
            "                                                                 \n",
            " block3_conv3 (Conv2D)       (None, 56, 56, 256)       590080    \n",
            "                                                                 \n",
            " block3_pool (MaxPooling2D)  (None, 28, 28, 256)       0         \n",
            "                                                                 \n",
            " block4_conv1 (Conv2D)       (None, 28, 28, 512)       1180160   \n",
            "                                                                 \n",
            " block4_conv2 (Conv2D)       (None, 28, 28, 512)       2359808   \n",
            "                                                                 \n",
            " block4_conv3 (Conv2D)       (None, 28, 28, 512)       2359808   \n",
            "                                                                 \n",
            " block4_pool (MaxPooling2D)  (None, 14, 14, 512)       0         \n",
            "                                                                 \n",
            " block5_conv1 (Conv2D)       (None, 14, 14, 512)       2359808   \n",
            "                                                                 \n",
            " block5_conv2 (Conv2D)       (None, 14, 14, 512)       2359808   \n",
            "                                                                 \n",
            " block5_conv3 (Conv2D)       (None, 14, 14, 512)       2359808   \n",
            "                                                                 \n",
            " block5_pool (MaxPooling2D)  (None, 7, 7, 512)         0         \n",
            "                                                                 \n",
            "=================================================================\n",
            "Total params: 14,714,688\n",
            "Trainable params: 14,714,688\n",
            "Non-trainable params: 0\n",
            "_________________________________________________________________\n"
          ]
        }
      ],
      "source": [
        "vgg = VGG16(input_shape=IMAGE_SIZE + [3], weights='imagenet', include_top=False)\n",
        "vgg.summary()"
      ]
    },
    {
      "cell_type": "code",
      "execution_count": null,
      "metadata": {
        "id": "cwdsXOLlMdiR"
      },
      "outputs": [],
      "source": [
        "for layer in vgg.layers:\n",
        "  layer.trainable = False"
      ]
    },
    {
      "cell_type": "code",
      "execution_count": null,
      "metadata": {
        "colab": {
          "base_uri": "https://localhost:8080/"
        },
        "id": "jR_L6S1_lr4L",
        "outputId": "6cc4c387-2cfb-4f8b-8f57-6315d1230c51"
      },
      "outputs": [
        {
          "name": "stdout",
          "output_type": "stream",
          "text": [
            "2\n"
          ]
        }
      ],
      "source": [
        "folders = glob(train_path+'/*')\n",
        "print(len(folders))"
      ]
    },
    {
      "cell_type": "code",
      "execution_count": null,
      "metadata": {
        "colab": {
          "base_uri": "https://localhost:8080/"
        },
        "id": "G56cRtmvMiVj",
        "outputId": "847cd451-e8eb-4ded-e215-12705d78aeb6"
      },
      "outputs": [
        {
          "name": "stdout",
          "output_type": "stream",
          "text": [
            "Model: \"model\"\n",
            "_________________________________________________________________\n",
            " Layer (type)                Output Shape              Param #   \n",
            "=================================================================\n",
            " input_2 (InputLayer)        [(None, 224, 224, 3)]     0         \n",
            "                                                                 \n",
            " block1_conv1 (Conv2D)       (None, 224, 224, 64)      1792      \n",
            "                                                                 \n",
            " block1_conv2 (Conv2D)       (None, 224, 224, 64)      36928     \n",
            "                                                                 \n",
            " block1_pool (MaxPooling2D)  (None, 112, 112, 64)      0         \n",
            "                                                                 \n",
            " block2_conv1 (Conv2D)       (None, 112, 112, 128)     73856     \n",
            "                                                                 \n",
            " block2_conv2 (Conv2D)       (None, 112, 112, 128)     147584    \n",
            "                                                                 \n",
            " block2_pool (MaxPooling2D)  (None, 56, 56, 128)       0         \n",
            "                                                                 \n",
            " block3_conv1 (Conv2D)       (None, 56, 56, 256)       295168    \n",
            "                                                                 \n",
            " block3_conv2 (Conv2D)       (None, 56, 56, 256)       590080    \n",
            "                                                                 \n",
            " block3_conv3 (Conv2D)       (None, 56, 56, 256)       590080    \n",
            "                                                                 \n",
            " block3_pool (MaxPooling2D)  (None, 28, 28, 256)       0         \n",
            "                                                                 \n",
            " block4_conv1 (Conv2D)       (None, 28, 28, 512)       1180160   \n",
            "                                                                 \n",
            " block4_conv2 (Conv2D)       (None, 28, 28, 512)       2359808   \n",
            "                                                                 \n",
            " block4_conv3 (Conv2D)       (None, 28, 28, 512)       2359808   \n",
            "                                                                 \n",
            " block4_pool (MaxPooling2D)  (None, 14, 14, 512)       0         \n",
            "                                                                 \n",
            " block5_conv1 (Conv2D)       (None, 14, 14, 512)       2359808   \n",
            "                                                                 \n",
            " block5_conv2 (Conv2D)       (None, 14, 14, 512)       2359808   \n",
            "                                                                 \n",
            " block5_conv3 (Conv2D)       (None, 14, 14, 512)       2359808   \n",
            "                                                                 \n",
            " block5_pool (MaxPooling2D)  (None, 7, 7, 512)         0         \n",
            "                                                                 \n",
            " flatten (Flatten)           (None, 25088)             0         \n",
            "                                                                 \n",
            " dense (Dense)               (None, 2)                 50178     \n",
            "                                                                 \n",
            "=================================================================\n",
            "Total params: 14,764,866\n",
            "Trainable params: 50,178\n",
            "Non-trainable params: 14,714,688\n",
            "_________________________________________________________________\n"
          ]
        }
      ],
      "source": [
        "x = Flatten()(vgg.output)\n",
        "activation_func = 'softmax'\n",
        "prediction = Dense(len(folders), activation=activation_func)(x)\n",
        "model = Model(inputs=vgg.input, outputs=prediction)\n",
        "model.summary()"
      ]
    },
    {
      "cell_type": "code",
      "execution_count": null,
      "metadata": {
        "id": "L6x9IHTBM1CA"
      },
      "outputs": [],
      "source": [
        "from keras import optimizers\n",
        "from keras import metrics\n",
        "\n",
        "metric = metrics.MeanIoU(len(folders)) # Intersection-over-union a.k.a. Jaccard Index\n",
        "adam = optimizers.Adam()\n",
        "model.compile(loss='binary_crossentropy',\n",
        "              optimizer=adam,\n",
        "              metrics=metric)"
      ]
    },
    {
      "cell_type": "code",
      "execution_count": null,
      "metadata": {
        "id": "l0YRD6xfnnrk"
      },
      "outputs": [],
      "source": [
        "train_datagen = ImageDataGenerator(\n",
        "    preprocessing_function=preprocess_input,\n",
        "    rotation_range=40,\n",
        "    width_shift_range=0.2,\n",
        "    height_shift_range=0.2,\n",
        "    shear_range=0.2,\n",
        "    zoom_range=0.2,\n",
        "    horizontal_flip=True,\n",
        "    fill_mode='nearest')"
      ]
    },
    {
      "cell_type": "code",
      "execution_count": null,
      "metadata": {
        "id": "BPfA9FCGoHBF"
      },
      "outputs": [],
      "source": [
        "# test_datagen = ImageDataGenerator(\n",
        "#     preprocessing_function=preprocess_input,\n",
        "#     rotation_range=40,\n",
        "#     width_shift_range=0.2,\n",
        "#     height_shift_range=0.2,\n",
        "#     shear_range=0.2,\n",
        "#     zoom_range=0.2,\n",
        "#     horizontal_flip=True,\n",
        "#     fill_mode='nearest')\n",
        "test_datagen = ImageDataGenerator(preprocessing_function=preprocess_input)"
      ]
    },
    {
      "cell_type": "code",
      "execution_count": null,
      "metadata": {
        "colab": {
          "base_uri": "https://localhost:8080/"
        },
        "id": "v-c2pnSGoJlL",
        "outputId": "06b8f453-49e3-45df-e07c-df7e1f8ecb89"
      },
      "outputs": [
        {
          "name": "stdout",
          "output_type": "stream",
          "text": [
            "Found 62102 images belonging to 2 classes.\n"
          ]
        }
      ],
      "source": [
        "batch_size = 32\n",
        "\n",
        "train_set = train_datagen.flow_from_directory(train_path,\n",
        "                                                 target_size = (224, 224),\n",
        "                                                 batch_size = batch_size,\n",
        "                                                 class_mode = 'categorical')"
      ]
    },
    {
      "cell_type": "code",
      "execution_count": null,
      "metadata": {
        "colab": {
          "base_uri": "https://localhost:8080/"
        },
        "id": "nNPc_W70oLzY",
        "outputId": "098d33de-ce4b-4349-eb5a-4906765b56b9"
      },
      "outputs": [
        {
          "name": "stdout",
          "output_type": "stream",
          "text": [
            "Found 7492 images belonging to 2 classes.\n"
          ]
        }
      ],
      "source": [
        "test_set = test_datagen.flow_from_directory(test_path,\n",
        "                                            target_size = (224, 224),\n",
        "                                            batch_size = batch_size,\n",
        "                                            class_mode = 'categorical')"
      ]
    },
    {
      "cell_type": "code",
      "execution_count": null,
      "metadata": {},
      "outputs": [],
      "source": [
        "def scheduler(epoch:int, learning_rate):\n",
        "    if epoch < 10:\n",
        "        return learning_rate\n",
        "    if epoch % 2 == 0:\n",
        "        return learning_rate/10\n",
        "    return learning_rate"
      ]
    },
    {
      "cell_type": "code",
      "execution_count": null,
      "metadata": {
        "colab": {
          "base_uri": "https://localhost:8080/"
        },
        "id": "3jPaek3VoRUz",
        "outputId": "736aac45-ce77-4ebf-c3dd-ef8e877019a2"
      },
      "outputs": [
        {
          "name": "stderr",
          "output_type": "stream",
          "text": [
            "C:\\Users\\andre\\AppData\\Local\\Temp\\ipykernel_13040\\2082123320.py:24: UserWarning: `Model.fit_generator` is deprecated and will be removed in a future version. Please use `Model.fit`, which supports generators.\n",
            "  model_history=model.fit_generator(\n"
          ]
        },
        {
          "name": "stdout",
          "output_type": "stream",
          "text": [
            "Epoch 1/100\n",
            "\n",
            "Epoch 1: val_loss improved from inf to 0.81139, saving model to models\\vgg_dense_softmax_2023-06-06_15-25-32.h5\n",
            "5/5 - 177s - loss: 8.3550 - mean_io_u: 0.5241 - val_loss: 0.8114 - val_mean_io_u: 0.7286 - lr: 0.0010 - 177s/epoch - 35s/step\n",
            "Epoch 2/100\n",
            "\n",
            "Epoch 2: val_loss did not improve from 0.81139\n",
            "5/5 - 185s - loss: 3.7599 - mean_io_u: 0.5179 - val_loss: 7.1146 - val_mean_io_u: 0.2559 - lr: 0.0010 - 185s/epoch - 37s/step\n",
            "Epoch 3/100\n",
            "\n",
            "Epoch 3: val_loss improved from 0.81139 to 0.63139, saving model to models\\vgg_dense_softmax_2023-06-06_15-25-32.h5\n",
            "5/5 - 188s - loss: 2.6136 - mean_io_u: 0.7013 - val_loss: 0.6314 - val_mean_io_u: 0.9022 - lr: 0.0010 - 188s/epoch - 38s/step\n",
            "Epoch 4/100\n",
            "\n",
            "Epoch 4: val_loss improved from 0.63139 to 0.22027, saving model to models\\vgg_dense_softmax_2023-06-06_15-25-32.h5\n",
            "5/5 - 189s - loss: 2.1246 - mean_io_u: 0.7330 - val_loss: 0.2203 - val_mean_io_u: 0.9157 - lr: 0.0010 - 189s/epoch - 38s/step\n",
            "Epoch 5/100\n",
            "\n",
            "Epoch 5: val_loss did not improve from 0.22027\n",
            "5/5 - 191s - loss: 0.8424 - mean_io_u: 0.8602 - val_loss: 0.7951 - val_mean_io_u: 0.8031 - lr: 0.0010 - 191s/epoch - 38s/step\n",
            "Epoch 6/100\n",
            "\n",
            "Epoch 6: val_loss did not improve from 0.22027\n",
            "5/5 - 189s - loss: 0.9290 - mean_io_u: 0.8877 - val_loss: 0.6887 - val_mean_io_u: 0.9220 - lr: 0.0010 - 189s/epoch - 38s/step\n",
            "Epoch 7/100\n",
            "\n",
            "Epoch 7: val_loss did not improve from 0.22027\n",
            "5/5 - 189s - loss: 1.1816 - mean_io_u: 0.8767 - val_loss: 0.6820 - val_mean_io_u: 0.9193 - lr: 0.0010 - 189s/epoch - 38s/step\n",
            "Epoch 8/100\n",
            "\n",
            "Epoch 8: val_loss did not improve from 0.22027\n",
            "5/5 - 195s - loss: 0.8392 - mean_io_u: 0.8934 - val_loss: 0.8323 - val_mean_io_u: 0.8597 - lr: 0.0010 - 195s/epoch - 39s/step\n",
            "Epoch 9/100\n",
            "Restoring model weights from the end of the best epoch: 4.\n",
            "\n",
            "Epoch 9: val_loss did not improve from 0.22027\n",
            "5/5 - 197s - loss: 0.8091 - mean_io_u: 0.9104 - val_loss: 0.7867 - val_mean_io_u: 0.8918 - lr: 0.0010 - 197s/epoch - 39s/step\n",
            "Epoch 9: early stopping\n",
            "Training completed in time:  0:28:21.873739\n"
          ]
        }
      ],
      "source": [
        "from datetime import datetime\n",
        "from keras.callbacks import ModelCheckpoint\n",
        "from keras.callbacks import EarlyStopping\n",
        "from keras.callbacks import LearningRateScheduler\n",
        "from bin.util import current_time\n",
        "\n",
        "\n",
        "\n",
        "monitor = \"val_loss\"\n",
        "patience = 5\n",
        "verbose = 2\n",
        "steps_epoch = test_set.__len__()\n",
        "\n",
        "file_path = f'models/vgg_dense_{activation_func}_batch{batch_size}_steps{steps_epoch}_{current_time()}.h5'\n",
        "\n",
        "checkpoint = ModelCheckpoint(filepath=file_path, monitor=monitor, verbose=verbose, save_best_only=True)\n",
        "es = EarlyStopping(monitor=monitor,\n",
        "                         patience=patience,\n",
        "                         verbose=verbose,\n",
        "                         mode='min',\n",
        "                         restore_best_weights=True)\n",
        "lrs = LearningRateScheduler(scheduler)\n",
        "callbacks = [es, lrs, checkpoint]\n",
        "\n",
        "start = datetime.now()\n",
        "\n",
        "model_history=model.fit_generator(\n",
        "  train_set,\n",
        "  validation_data=test_set,\n",
        "  epochs=100,\n",
        "  steps_per_epoch=steps_epoch,\n",
        "  # validation_steps=32,\n",
        "  callbacks=callbacks,\n",
        "  verbose=2)\n",
        "\n",
        "duration = datetime.now() - start\n",
        "print(\"Training completed in time: \", duration)"
      ]
    },
    {
      "cell_type": "code",
      "execution_count": null,
      "metadata": {
        "colab": {
          "base_uri": "https://localhost:8080/",
          "height": 295
        },
        "id": "-xWwh8bVoYn9",
        "outputId": "311b4e3f-880d-4dfc-8ddf-300d1716d5f6"
      },
      "outputs": [
        {
          "data": {
            "image/png": "[encoded data removed]",
            "text/plain": [
              "<Figure size 640x480 with 1 Axes>"
            ]
          },
          "metadata": {},
          "output_type": "display_data"
        }
      ],
      "source": [
        "# Plot training & validation loss values\n",
        "plt.plot(model_history.history[metric.name])\n",
        "plt.plot(model_history.history['val_'+metric.name])\n",
        "plt.title('CNN Model Metric Values')\n",
        "plt.ylabel(metric.name)\n",
        "plt.xlabel('Epoch')\n",
        "plt.legend(['Train', 'Test'], loc='upper left')\n",
        "plt.show()\n"
      ]
    }
  ],
  "metadata": {
    "colab": {
      "name": "TransferLearning.ipynb",
      "provenance": []
    },
    "kernelspec": {
      "display_name": "Python 3",
      "name": "python3"
    },
    "language_info": {
      "codemirror_mode": {
        "name": "ipython",
        "version": 3
      },
      "file_extension": ".py",
      "mimetype": "text/x-python",
      "name": "python",
      "nbconvert_exporter": "python",
      "pygments_lexer": "ipython3",
      "version": "3.9.13"
    }
  },
  "nbformat": 4,
  "nbformat_minor": 0
}
